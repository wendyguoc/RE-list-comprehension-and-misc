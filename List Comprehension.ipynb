{
 "cells": [
  {
   "cell_type": "code",
   "execution_count": 1,
   "metadata": {},
   "outputs": [
    {
     "data": {
      "text/plain": [
       "[0, 2, 4, 6, 8]"
      ]
     },
     "execution_count": 1,
     "metadata": {},
     "output_type": "execute_result"
    }
   ],
   "source": [
    "[i for i in range(10) if i%2==0]"
   ]
  },
  {
   "cell_type": "code",
   "execution_count": 2,
   "metadata": {},
   "outputs": [
    {
     "name": "stdout",
     "output_type": "stream",
     "text": [
      "[0, 2, 4, 6, 8]\n"
     ]
    }
   ],
   "source": [
    "result=[]\n",
    "for i in range(10):\n",
    "    if i%2==0:\n",
    "        result.append(i)\n",
    "print(result)\n"
   ]
  },
  {
   "cell_type": "code",
   "execution_count": 5,
   "metadata": {},
   "outputs": [
    {
     "name": "stdout",
     "output_type": "stream",
     "text": [
      "[1, 4, 9, 16, 25]\n",
      "[1, 4, 9, 16, 25]\n"
     ]
    }
   ],
   "source": [
    "mylist=[1,2,3,4,5]\n",
    "result=[]\n",
    "for i in mylist:\n",
    "    result.append(i**2)\n",
    "print(result)\n",
    "\n",
    "result=[i**2 for i in mylist]\n",
    "print(result)\n",
    "    "
   ]
  },
  {
   "cell_type": "code",
   "execution_count": 8,
   "metadata": {},
   "outputs": [
    {
     "name": "stdout",
     "output_type": "stream",
     "text": [
      "[4, 16]\n",
      "[4, 16]\n"
     ]
    }
   ],
   "source": [
    "result=[]\n",
    "for i in mylist:\n",
    "    if i%2==0:\n",
    "        result.append(i**2)\n",
    "print(result)\n",
    "\n",
    "result=[i**2 for i in mylist if i%2==0]\n",
    "print(result)"
   ]
  },
  {
   "cell_type": "code",
   "execution_count": null,
   "metadata": {},
   "outputs": [],
   "source": []
  },
  {
   "cell_type": "code",
   "execution_count": 11,
   "metadata": {},
   "outputs": [
    {
     "name": "stdout",
     "output_type": "stream",
     "text": [
      "[1, 4, 27, 16, 125]\n",
      "[1, 4, 27, 16, 125]\n"
     ]
    }
   ],
   "source": [
    "result=[]\n",
    "for i in mylist:\n",
    "    if i%2==0:\n",
    "        result.append(i**2)\n",
    "    else:\n",
    "        result.append(i**3)\n",
    "print(result)\n",
    "\n",
    "result=[i**2 if i%2==0 else i**3 for i in mylist]\n",
    "print(result)"
   ]
  },
  {
   "cell_type": "code",
   "execution_count": 15,
   "metadata": {},
   "outputs": [
    {
     "name": "stdout",
     "output_type": "stream",
     "text": [
      "[2, 4, 6, 8, 10, 12, 14, 16]\n",
      "[2, 4, 6, 8, 10, 12, 14, 16]\n"
     ]
    }
   ],
   "source": [
    "mat = [[1,2,3,4], [5,6,7,8], [9,10,11,12], [13,14,15,16]]\n",
    "result=[]\n",
    "for row in mat:\n",
    "    for i in row:\n",
    "        if i%2==0:\n",
    "            result.append(i)\n",
    "print(result)\n",
    "\n",
    "result=[ i for row in mat for i in row if i%2==0]\n",
    "print(result)"
   ]
  },
  {
   "cell_type": "code",
   "execution_count": 74,
   "metadata": {},
   "outputs": [
    {
     "name": "stdout",
     "output_type": "stream",
     "text": [
      "[(6, 2), (4, 8), (6, 2), (1, 3), (2, 7), (2, 7)]\n",
      "[(6, 2), (4, 8), (6, 2), (1, 3), (2, 7), (2, 7)]\n",
      "{6: 2, 4: 8, 1: 3, 2: 7}\n"
     ]
    }
   ],
   "source": [
    "mylist = [9, 3, 6, 1, 5, 0, 8, 2, 4, 7]\n",
    "list_b = [6, 4, 6, 1, 2, 2]\n",
    "\n",
    "result=[]\n",
    "for i in list_b:\n",
    "    result.append((i, mylist.index(i)))\n",
    "print(result)\n",
    "\n",
    "result=[ (i, mylist.index(i)) for i in list_b]\n",
    "print(result)\n",
    "\n",
    "#convert tuple into dictionary\n",
    "dic=dict(result)\n",
    "print(dic)"
   ]
  },
  {
   "cell_type": "code",
   "execution_count": 24,
   "metadata": {},
   "outputs": [
    {
     "name": "stdout",
     "output_type": "stream",
     "text": [
      "{6: 2, 4: 8, 1: 3, 2: 7}\n",
      "{6: 2, 4: 8, 1: 3, 2: 7}\n",
      "2\n"
     ]
    }
   ],
   "source": [
    "result={}\n",
    "for i in list_b:\n",
    "    result[i]=mylist.index(i)\n",
    "print(result)\n",
    "\n",
    "\n",
    "result={ i: mylist.index(i) for i in list_b}\n",
    "print(result)\n",
    "print(result[6])"
   ]
  },
  {
   "cell_type": "code",
   "execution_count": 33,
   "metadata": {},
   "outputs": [
    {
     "name": "stdout",
     "output_type": "stream",
     "text": [
      "[['new', 'world', 'record', 'was', 'set'], ['holy', 'city', 'ayodhya'], ['eve', 'diwali', 'tuesday'], ['over', 'three', 'lakh', 'diya', 'or', 'earthen', 'lamps'], ['lit', 'up', 'simultaneously', 'banks', 'sarayu', 'river']]\n",
      "['new', 'world', 'record', 'was', 'set', 'holy', 'city', 'ayodhya', 'eve', 'diwali', 'tuesday', 'over', 'three', 'lakh', 'diya', 'or', 'earthen', 'lamps', 'lit', 'up', 'simultaneously', 'banks', 'sarayu', 'river']\n",
      "[['new', 'world', 'record', 'was', 'set'], ['holy', 'city', 'ayodhya'], ['eve', 'diwali', 'tuesday'], ['over', 'three', 'lakh', 'diya', 'or', 'earthen', 'lamps'], ['lit', 'up', 'simultaneously', 'banks', 'sarayu', 'river']]\n"
     ]
    }
   ],
   "source": [
    "sentences = [\"a new world record was set\", \n",
    "             \"in the holy city of ayodhya\", \n",
    "             \"on the eve of diwali on tuesday\", \n",
    "             \"with over three lakh diya or earthen lamps\", \n",
    "             \"lit up simultaneously on the banks of the sarayu river\"]\n",
    "\n",
    "stopwords = ['for', 'a', 'of', 'the', 'and', 'to', 'in', 'on', 'with']\n",
    "\n",
    "result=[]\n",
    "for  sentence in sentences:\n",
    "    sentence_token=[]\n",
    "    for word in sentence.split():\n",
    "        if word not in stopwords:\n",
    "            sentence_token.append(word)\n",
    "    result.append(sentence_token)\n",
    "print(result)\n",
    "\n",
    "result=[ word for sentence in sentences for word in sentence.split() if word not in stopwords]\n",
    "print(result)\n",
    "\n",
    "\n",
    "result2=[[word for word in sentence.split() if word not in stopwords] for sentence in sentences]\n",
    "print(result2)"
   ]
  },
  {
   "cell_type": "code",
   "execution_count": 36,
   "metadata": {},
   "outputs": [
    {
     "name": "stdout",
     "output_type": "stream",
     "text": [
      "[1, 2, -3, -4, -5, -6, -7, -8, 9, 10]\n"
     ]
    }
   ],
   "source": [
    "#Question 1. Given a 1D list, negate all elements which are between 3 and 8, using list comprehensions\n",
    "mylist = [1, 2, 3, 4, 5, 6, 7, 8, 9, 10]\n",
    "result=[ i*-1 if i >=3 and i <=8 else i for i in mylist ]\n",
    "print(result)"
   ]
  },
  {
   "cell_type": "code",
   "execution_count": 57,
   "metadata": {},
   "outputs": [
    {
     "name": "stdout",
     "output_type": "stream",
     "text": [
      "{'a': 1, 'b': 2, 'c': 3, 'd': 4, 'e': 5, 'f': 6, 'g': 7, 'h': 8, 'i': 9, 'j': 10, 'k': 11, 'l': 12, 'm': 13, 'n': 14, 'o': 15, 'p': 16, 'q': 17, 'r': 18, 's': 19, 't': 20, 'u': 21, 'v': 22, 'w': 23, 'x': 24, 'y': 25, 'z': 26}\n"
     ]
    }
   ],
   "source": [
    "#Question 2: Make a dictionary of the 26 english alphabets mapping each with the corresponding integer.\n",
    "\n",
    "import string\n",
    "dic={a:i+1 for a,i in zip(string.ascii_letters[:26], range(26))}\n",
    "print(dic)\n",
    "#dic.get('b')"
   ]
  },
  {
   "cell_type": "code",
   "execution_count": 48,
   "metadata": {},
   "outputs": [
    {
     "name": "stdout",
     "output_type": "stream",
     "text": [
      "lee quan yew\n",
      "[12, 5, 5, ' ', 17, 21, 1, 14, ' ', 25, 5, 23]\n"
     ]
    }
   ],
   "source": [
    " \n",
    "#Question 3: Replace all alphabets in the string ‘Lee Quan Yew’, by substituting the alphabet with the corresponding numbers,\n",
    "#like 1 for ‘a’, 2 for ‘b’ and so on. \n",
    "#use get method to return a value from a key in a dictionary\n",
    "string=\"Lee Quan Yew\"\n",
    "\n",
    "string2=string.lower()\n",
    "\n",
    "print(string2)\n",
    "\n",
    "result=[dic.get(a, ' ') for a in string2]\n",
    "print(result)"
   ]
  },
  {
   "cell_type": "code",
   "execution_count": 73,
   "metadata": {},
   "outputs": [
    {
     "name": "stdout",
     "output_type": "stream",
     "text": [
      "['hubble', 'space', 'telescope', 'has', 'spotted', 'formation', 'galaxies', 'that', 'resembles', 'smiling', 'face', 'sky']\n"
     ]
    }
   ],
   "source": [
    "#Question 4: Get the unique list of words from the following sentences, excluding any stopwords.\n",
    "\n",
    "sentences = [\"The Hubble Space telescope has spotted\", \n",
    "             \"a formation of galaxies that resembles\", \n",
    "             \"a smiling face in the sky\"]\n",
    "stopwords = ['for', 'a', 'of', 'the', 'and', 'to', 'in', 'on', 'with']\n",
    "result=[ word for sentence in sentences for word in sentence.lower().split() if word not in stopwords]\n",
    "print(result)"
   ]
  },
  {
   "cell_type": "code",
   "execution_count": 72,
   "metadata": {},
   "outputs": [
    {
     "name": "stdout",
     "output_type": "stream",
     "text": [
      "[['hubble', 'space', 'telescope', 'has', 'spotted'], ['formation', 'galaxies', 'that', 'resembles'], ['smiling', 'face', 'sky'], ['image', 'taken', 'wide', 'field', 'camera'], ['shows', 'patch', 'space', 'filled', 'galaxies'], ['all', 'shapes,', 'colours', 'sizes']]\n"
     ]
    }
   ],
   "source": [
    "#Question 5: Tokenize the following sentences excluding all stopwords and punctuations.\n",
    "\n",
    "sentences = [\"The Hubble Space telescope has spotted\", \n",
    "             \"a formation of galaxies that resembles\", \n",
    "             \"a smiling face in the sky\", \n",
    "             \"The image taken with the Wide Field Camera\", \n",
    "             \"shows a patch of space filled with galaxies\", \n",
    "             \"of all shapes, colours and sizes\"]\n",
    "\n",
    "stopwords = ['for', 'a', 'of', 'the', 'and', 'to', 'in', 'on', 'with']\n",
    "\n",
    "result=[[word.lower() for word in sentence.split() if word.lower() not in stopwords] for sentence in sentences]\n",
    "print(result)"
   ]
  },
  {
   "cell_type": "code",
   "execution_count": 71,
   "metadata": {},
   "outputs": [
    {
     "name": "stdout",
     "output_type": "stream",
     "text": [
      "[('the', 0), ('hubble', 0), ('space', 0), ('telescope', 0), ('has', 0), ('spotted', 0), ('a', 1), ('formation', 1), ('of', 1), ('galaxies', 1), ('that', 1), ('resembles', 1), ('a', 2), ('smiling', 2), ('face', 2), ('in', 2), ('the', 2), ('sky', 2)]\n",
      "[(0, 'The Hubble Space telescope has spotted'), (1, 'a formation of galaxies that resembles'), (2, 'a smiling face in the sky')]\n"
     ]
    }
   ],
   "source": [
    "#Question 6: Create a list of (word:id) pairs for all words in the following sentences, where id is the sentence index\n",
    "\n",
    "sentences = [\"The Hubble Space telescope has spotted\", \n",
    "             \"a formation of galaxies that resembles\", \n",
    "             \"a smiling face in the sky\"]\n",
    "result=[(word.lower(), i) for i, sentence in enumerate(sentences) for word in sentence.split(' ')]\n",
    "print(result)\n",
    "\n",
    "print (list(enumerate(sentences)))"
   ]
  },
  {
   "cell_type": "code",
   "execution_count": 69,
   "metadata": {},
   "outputs": [
    {
     "name": "stdout",
     "output_type": "stream",
     "text": [
      "<class 'enumerate'>\n",
      "[(0, 'eat'), (1, 'sleep'), (2, 'repeat')]\n",
      "[(2, 'g'), (3, 'e'), (4, 'e'), (5, 'k')]\n"
     ]
    }
   ],
   "source": [
    "\n",
    "# Python program to illustrate \n",
    "# enumerate function \n",
    "l1 = [\"eat\",\"sleep\",\"repeat\"] \n",
    "s1 = \"geek\"\n",
    "  \n",
    "# creating enumerate objects \n",
    "obj1 = enumerate(l1) \n",
    "obj2 = enumerate(s1) \n",
    "  \n",
    "print (type(obj1))\n",
    "print ( list(enumerate(l1)) )\n",
    "  \n",
    "# changing start index to 2 from 0 \n",
    "print (list(enumerate(s1,2)) )"
   ]
  },
  {
   "cell_type": "code",
   "execution_count": 86,
   "metadata": {},
   "outputs": [
    {
     "name": "stdout",
     "output_type": "stream",
     "text": [
      "0\n",
      "1\n",
      "2\n"
     ]
    },
    {
     "data": {
      "text/plain": [
       "'aababc'"
      ]
     },
     "execution_count": 86,
     "metadata": {},
     "output_type": "execute_result"
    }
   ],
   "source": [
    "def str_splosion(str):\n",
    "    result = \"\"\n",
    "    for i in range(len(str)):\n",
    "        print (i)\n",
    "        result=result+str[:i+1]\n",
    "    return result\n",
    "str_splosion('abc')"
   ]
  },
  {
   "cell_type": "code",
   "execution_count": 112,
   "metadata": {},
   "outputs": [
    {
     "name": "stdout",
     "output_type": "stream",
     "text": [
      "[3, 1, 4, 1, 5, 9, 2, 6, 5, 3, 5, 8, 9, 7, 9, 3, 1, 1, 6, 0, 0]\n"
     ]
    }
   ],
   "source": [
    "import math\n",
    "text=\"%.20f\"% math.pi\n",
    "\n",
    "digits=[int(s) for s in text if s !=\".\"]\n",
    "print(digits)"
   ]
  },
  {
   "cell_type": "code",
   "execution_count": 131,
   "metadata": {},
   "outputs": [
    {
     "name": "stdout",
     "output_type": "stream",
     "text": [
      "0 5\n",
      "1 5\n",
      "1 3\n",
      "2 3\n",
      "6\n"
     ]
    }
   ],
   "source": [
    "obj=[4,13,1,2,13]\n",
    "n=0\n",
    "while n< len(obj):\n",
    "    print(n, len(obj))\n",
    "    if obj[n]==13:\n",
    "        del obj[n:n+2]\n",
    "        continue\n",
    "    n=n+1\n",
    "print(sum(obj))\n"
   ]
  },
  {
   "cell_type": "code",
   "execution_count": 136,
   "metadata": {},
   "outputs": [
    {
     "ename": "ValueError",
     "evalue": "6 is not in list",
     "output_type": "error",
     "traceback": [
      "\u001b[1;31m---------------------------------------------------------------------------\u001b[0m",
      "\u001b[1;31mValueError\u001b[0m                                Traceback (most recent call last)",
      "\u001b[1;32m<ipython-input-136-b4230143dcdb>\u001b[0m in \u001b[0;36m<module>\u001b[1;34m\u001b[0m\n\u001b[0;32m      1\u001b[0m \u001b[0mobj\u001b[0m\u001b[1;33m=\u001b[0m\u001b[1;33m[\u001b[0m\u001b[1;36m1\u001b[0m\u001b[1;33m,\u001b[0m\u001b[1;36m2\u001b[0m\u001b[1;33m,\u001b[0m\u001b[1;36m2\u001b[0m\u001b[1;33m,\u001b[0m\u001b[1;36m99\u001b[0m\u001b[1;33m,\u001b[0m\u001b[1;36m99\u001b[0m\u001b[1;33m,\u001b[0m\u001b[1;36m7\u001b[0m\u001b[1;33m,\u001b[0m\u001b[1;36m2\u001b[0m\u001b[1;33m]\u001b[0m\u001b[1;33m\u001b[0m\u001b[1;33m\u001b[0m\u001b[0m\n\u001b[1;32m----> 2\u001b[1;33m \u001b[0mstart\u001b[0m\u001b[1;33m=\u001b[0m\u001b[0mobj\u001b[0m\u001b[1;33m.\u001b[0m\u001b[0mindex\u001b[0m\u001b[1;33m(\u001b[0m\u001b[1;36m6\u001b[0m\u001b[1;33m)\u001b[0m\u001b[1;33m\u001b[0m\u001b[1;33m\u001b[0m\u001b[0m\n\u001b[0m\u001b[0;32m      3\u001b[0m \u001b[0mend\u001b[0m\u001b[1;33m=\u001b[0m\u001b[0mobj\u001b[0m\u001b[1;33m.\u001b[0m\u001b[0mindex\u001b[0m\u001b[1;33m(\u001b[0m\u001b[1;36m7\u001b[0m\u001b[1;33m)\u001b[0m\u001b[1;33m\u001b[0m\u001b[1;33m\u001b[0m\u001b[0m\n\u001b[0;32m      4\u001b[0m \u001b[0mprint\u001b[0m \u001b[1;33m(\u001b[0m\u001b[0mstart\u001b[0m\u001b[1;33m,\u001b[0m \u001b[0mend\u001b[0m\u001b[1;33m)\u001b[0m\u001b[1;33m\u001b[0m\u001b[1;33m\u001b[0m\u001b[0m\n\u001b[0;32m      5\u001b[0m \u001b[1;32mdel\u001b[0m \u001b[0mobj\u001b[0m\u001b[1;33m[\u001b[0m\u001b[0mstart\u001b[0m\u001b[1;33m:\u001b[0m \u001b[0mend\u001b[0m\u001b[1;33m+\u001b[0m\u001b[1;36m1\u001b[0m \u001b[1;33m:\u001b[0m\u001b[1;36m1\u001b[0m\u001b[1;33m]\u001b[0m\u001b[1;33m\u001b[0m\u001b[1;33m\u001b[0m\u001b[0m\n",
      "\u001b[1;31mValueError\u001b[0m: 6 is not in list"
     ]
    }
   ],
   "source": [
    "obj=[1,6,2,6,2,7,1,6,99,99,7]\n",
    "\n",
    "end=obj.index(7)\n",
    "print (start, end)\n",
    "del obj[start: end+1 :1]\n",
    "print (obj)"
   ]
  }
 ],
 "metadata": {
  "kernelspec": {
   "display_name": "Python 3",
   "language": "python",
   "name": "python3"
  },
  "language_info": {
   "codemirror_mode": {
    "name": "ipython",
    "version": 3
   },
   "file_extension": ".py",
   "mimetype": "text/x-python",
   "name": "python",
   "nbconvert_exporter": "python",
   "pygments_lexer": "ipython3",
   "version": "3.7.4"
  }
 },
 "nbformat": 4,
 "nbformat_minor": 2
}
