{
 "cells": [
  {
   "cell_type": "code",
   "execution_count": 62,
   "metadata": {
    "scrolled": true
   },
   "outputs": [
    {
     "name": "stdout",
     "output_type": "stream",
     "text": [
      "<class 'list'>\n"
     ]
    }
   ],
   "source": [
    "import json\n",
    "import re\n",
    "import string\n",
    "import time\n",
    "import distance\n",
    "import numpy as np\n",
    "import pandas as pd\n",
    "import matplotlib.pyplot as plt\n",
    "import sklearn.model_selection as cv\n",
    "from pandas import DataFrame\n",
    "#from knn import mlp\n",
    "from collections import OrderedDict\n",
    "from scipy.sparse import csr_matrix\n",
    "from sklearn.svm import LinearSVC\n",
    "#from knn.backend import lasagne\n",
    "from sklearn.ensemble import RandomForestClassifier\n",
    "from sklearn.linear_model import LogisticRegression\n",
    "from sklearn.multiclass import OneVsRestClassifier\n",
    "from sklearn.neighbors import KNeighborsClassifier\n",
    "from sklearn.tree import DecisionTreeClassifier\n",
    "from sklearn.feature_extraction.text import CountVectorizer\n",
    "from sklearn import metrics\n",
    "\n",
    "with open('train.json') as f:\n",
    "    data=json.load(f)\n",
    "    \n",
    "print (type(data))"
   ]
  },
  {
   "cell_type": "code",
   "execution_count": 52,
   "metadata": {},
   "outputs": [
    {
     "name": "stdout",
     "output_type": "stream",
     "text": [
      "greek\n"
     ]
    }
   ],
   "source": [
    "print(data[0]['cuisine'])"
   ]
  },
  {
   "cell_type": "code",
   "execution_count": 44,
   "metadata": {},
   "outputs": [
    {
     "name": "stdout",
     "output_type": "stream",
     "text": [
      "10259\n",
      "greek\n",
      "['romaine lettuce', 'black olives', 'grape tomatoes', 'garlic', 'pepper', 'purple onion', 'seasoning', 'garbanzo beans', 'feta cheese crumbles']\n",
      "25693\n",
      "southern_us\n",
      "['plain flour', 'ground pepper', 'salt', 'tomatoes', 'ground black pepper', 'thyme', 'eggs', 'green tomatoes', 'yellow corn meal', 'milk', 'vegetable oil']\n",
      "20130\n",
      "filipino\n",
      "['eggs', 'pepper', 'salt', 'mayonaise', 'cooking oil', 'green chilies', 'grilled chicken breasts', 'garlic powder', 'yellow onion', 'soy sauce', 'butter', 'chicken livers']\n",
      "22213\n",
      "indian\n",
      "['water', 'vegetable oil', 'wheat', 'salt']\n",
      "13162\n",
      "indian\n",
      "['black pepper', 'shallots', 'cornflour', 'cayenne pepper', 'onions', 'garlic paste', 'milk', 'butter', 'salt', 'lemon juice', 'water', 'chili powder', 'passata', 'oil', 'ground cumin', 'boneless chicken skinless thigh', 'garam masala', 'double cream', 'natural yogurt', 'bay leaf']\n",
      "6602\n",
      "jamaican\n",
      "['plain flour', 'sugar', 'butter', 'eggs', 'fresh ginger root', 'salt', 'ground cinnamon', 'milk', 'vanilla extract', 'ground ginger', 'powdered sugar', 'baking powder']\n",
      "42779\n",
      "spanish\n",
      "['olive oil', 'salt', 'medium shrimp', 'pepper', 'garlic', 'chopped cilantro', 'jalapeno chilies', 'flat leaf parsley', 'skirt steak', 'white vinegar', 'sea salt', 'bay leaf', 'chorizo sausage']\n",
      "3735\n",
      "italian\n",
      "['sugar', 'pistachio nuts', 'white almond bark', 'flour', 'vanilla extract', 'olive oil', 'almond extract', 'eggs', 'baking powder', 'dried cranberries']\n",
      "16903\n",
      "mexican\n",
      "['olive oil', 'purple onion', 'fresh pineapple', 'pork', 'poblano peppers', 'corn tortillas', 'cheddar cheese', 'ground black pepper', 'salt', 'iceberg lettuce', 'lime', 'jalapeno chilies', 'chopped cilantro fresh']\n",
      "12734\n",
      "italian\n",
      "['chopped tomatoes', 'fresh basil', 'garlic', 'extra-virgin olive oil', 'kosher salt', 'flat leaf parsley']\n"
     ]
    }
   ],
   "source": [
    "\n",
    "for index in range(10):\n",
    "    for key in data[index]:\n",
    "        print(data[index][key])\n"
   ]
  },
  {
   "cell_type": "code",
   "execution_count": 45,
   "metadata": {},
   "outputs": [],
   "source": [
    "import itertools\n",
    "from operator import itemgetter\n",
    "#sort cooking data by cuisine key\n",
    "cooking=sorted(data, key=itemgetter('cuisine'))"
   ]
  },
  {
   "cell_type": "code",
   "execution_count": 46,
   "metadata": {},
   "outputs": [
    {
     "name": "stdout",
     "output_type": "stream",
     "text": [
      "brazilian\n",
      "british\n",
      "cajun_creole\n",
      "chinese\n",
      "filipino\n",
      "french\n",
      "greek\n",
      "indian\n",
      "irish\n",
      "italian\n",
      "jamaican\n",
      "japanese\n",
      "korean\n",
      "mexican\n",
      "moroccan\n",
      "russian\n",
      "southern_us\n",
      "spanish\n",
      "thai\n",
      "vietnamese\n"
     ]
    }
   ],
   "source": [
    "#display data group by cuisine\n",
    "for key, value in itertools.groupby(cooking, key=itemgetter('cuisine')):\n",
    "    print (key)\n",
    "    "
   ]
  },
  {
   "cell_type": "code",
   "execution_count": 53,
   "metadata": {},
   "outputs": [
    {
     "name": "stdout",
     "output_type": "stream",
     "text": [
      "65\n",
      "{'id': 3885, 'cuisine': 'italian', 'ingredients': ['fettucine', 'fresh marjoram', 'minced garlic', 'olive oil', 'garlic powder', 'large eggs', 'Alfredo sauce', 'vegetable oil', 'cajun seasoning', 'shredded romano cheese', 'basil dried leaves', 'salt', 'cayenne pepper', 'scallions', 'red bell pepper', 'boneless skinless chicken breast halves', 'soba', 'pasta sauce', 'kosher salt', 'milk', 'fresh ginger', 'ground black pepper', 'flour', 'cooked chicken', 'coarse salt', 'lemon', 'diced tomatoes', 'garlic', 'rice vinegar', 'NeufchÃ¢tel', 'garlic cloves', 'dried parsley', 'frozen artichoke hearts', 'penne', 'pepper', 'sweet onion', 'part-skim mozzarella cheese', 'parmigiano reggiano cheese', 'basil leaves', 'onion powder', 'red wine vinegar', 'red pepper flakes', 'orzo', 'crushed red pepper', 'all-purpose flour', 'freshly ground pepper', 'sliced mushrooms', 'panko breadcrumbs', 'plum tomatoes', 'fresh basil', 'fresh leav spinach', 'water', 'sun-dried tomatoes', 'ground pepper', 'grated parmesan cheese', 'boneless skinless chicken breasts', 'chicken cutlets', 'butter', 'multi-grain penne pasta', 'extra-virgin olive oil', 'cilantro leaves', 'green pepper', 'shredded mozzarella cheese', 'fresh parsley', 'spaghetti']}\n"
     ]
    }
   ],
   "source": [
    "#find the longest ingredient and ID\n",
    "max=0\n",
    "pos=0\n",
    "length=len(data)\n",
    "for x in range(length):\n",
    "    if len( data[x]['ingredients'])>max:\n",
    "        max=len(data[x]['ingredients'])\n",
    "        pos=x\n",
    "print(max)\n",
    "print(data[pos])"
   ]
  },
  {
   "cell_type": "code",
   "execution_count": 64,
   "metadata": {},
   "outputs": [
    {
     "name": "stdout",
     "output_type": "stream",
     "text": [
      "0\n",
      "5000\n",
      "10000\n",
      "15000\n",
      "20000\n",
      "25000\n",
      "30000\n",
      "35000\n",
      "       cuisine                                        ingredients\n",
      "0        greek  romaine lettuce,black olives,grape tomatoes,ga...\n",
      "1  southern_us  plain flour,ground pepper,salt,tomatoes,ground...\n",
      "2     filipino  eggs,pepper,salt,mayonaise,cooking oil,green c...\n",
      "3       indian                     water,vegetable oil,wheat,salt\n",
      "4       indian  black pepper,shallots,cornflour,cayenne pepper...\n"
     ]
    }
   ],
   "source": [
    "\n",
    "cuisine = []\n",
    "ingre = []\n",
    "full = []\n",
    "for i in range(length):\n",
    "    cuisine.append(data[i]['cuisine'])\n",
    "    for j in range(len(data[i]['ingredients'])):\n",
    "        ingre.append(data[i]['ingredients'][j])\n",
    "    li = [y for y in ingre]\n",
    "    li = \",\".join(map(str, li))\n",
    "    full.append(li)\n",
    "    ingre = []\n",
    "    #if(i == 5000):\n",
    "    #    break\n",
    "    if(i%5000 == 0):\n",
    "        print(i)\n",
    "df = pd.DataFrame({'cuisine':cuisine,'ingredients':full})\n",
    "\n",
    "print(df.head())"
   ]
  },
  {
   "cell_type": "code",
   "execution_count": 65,
   "metadata": {},
   "outputs": [],
   "source": [
    "x_train=df['ingredients']\n",
    "y_train=df.cuisine\n"
   ]
  },
  {
   "cell_type": "code",
   "execution_count": 50,
   "metadata": {},
   "outputs": [
    {
     "name": "stdout",
     "output_type": "stream",
     "text": [
      "brazilian\n",
      "british\n",
      "cajun_creole\n",
      "chinese\n",
      "filipino\n",
      "french\n",
      "greek\n",
      "indian\n",
      "irish\n",
      "italian\n",
      "jamaican\n",
      "japanese\n",
      "korean\n",
      "mexican\n",
      "moroccan\n",
      "russian\n",
      "southern_us\n",
      "spanish\n",
      "thai\n",
      "vietnamese\n"
     ]
    }
   ],
   "source": [
    "#isolates only unique cuisin and ingredients and sort them aplphabetically\n",
    "unique_cuisines, cuisine_counts=np.unique(all_cuisines, return_counts=True)\n",
    "unique_ingredients, ingredient_counts=np.unique(all_ingredients, return_counts=True)\n",
    "for cuisine in unique_cuisines:\n",
    "    print(cuisine)"
   ]
  },
  {
   "cell_type": "code",
   "execution_count": 51,
   "metadata": {},
   "outputs": [
    {
     "data": {
      "image/png": "[encoded data removed]",
      "text/plain": [
       "<Figure size 1440x720 with 1 Axes>"
      ]
     },
     "metadata": {
      "needs_background": "light"
     },
     "output_type": "display_data"
    }
   ],
   "source": [
    "\"\"\"\n",
    "Explore cuisine frequency in the dataset.\n",
    "\"\"\"\n",
    "\n",
    "# Sort the cuisines by frequency.\n",
    "cuisine_counts, unique_cuisines = zip(*sorted(zip(cuisine_counts, unique_cuisines)))\n",
    "\n",
    "# Plot the frequencies.\n",
    "pos = np.arange(len(unique_cuisines)) + 0.5\n",
    "plt.figure(figsize=(20, 10))\n",
    "plt.barh(pos, cuisine_counts, align='center')\n",
    "plt.yticks(pos, unique_cuisines)\n",
    "plt.xlabel('Frequency')\n",
    "plt.ylabel('Cuisine')\n",
    "plt.title('Cuisine Frequency Distribution')\n",
    "plt.show()"
   ]
  },
  {
   "cell_type": "code",
   "execution_count": 55,
   "metadata": {},
   "outputs": [],
   "source": [
    "import string\n",
    "import spacy\n",
    "from spacy.lang.en.stop_words import STOP_WORDS\n",
    "from spacy.lang.en import English\n",
    "\n",
    "# Create our list of punctuation marks\n",
    "punctuations = string.punctuation\n",
    "\n",
    "# Create our list of stopwords\n",
    "nlp = spacy.load('en_core_web_sm')\n",
    "stop_words = spacy.lang.en.stop_words.STOP_WORDS\n",
    "\n",
    "# Load English tokenizer, tagger, parser, NER and word vectors\n",
    "parser = English()\n",
    "\n",
    "# Creating our tokenizer function\n",
    "def spacy_tokenizer(sentence):\n",
    "    # Creating our token object, which is used to create documents with linguistic annotations.\n",
    "    mytokens = parser(sentence)\n",
    "\n",
    "    # Lemmatizing each token and converting each token into lowercase\n",
    "    mytokens = [ word.lemma_.lower().strip() if word.lemma_ != \"-PRON-\" else word.lower_ for word in mytokens ]\n",
    "\n",
    "    # Removing stop words\n",
    "    mytokens = [ word for word in mytokens if word not in stop_words and word not in punctuations ]\n",
    "\n",
    "    # return preprocessed list of tokens\n",
    "    return mytokens"
   ]
  },
  {
   "cell_type": "code",
   "execution_count": 56,
   "metadata": {},
   "outputs": [],
   "source": [
    "cuisine_vector = CountVectorizer(tokenizer = spacy_tokenizer, ngram_range=(1,1))"
   ]
  },
  {
   "cell_type": "code",
   "execution_count": 66,
   "metadata": {},
   "outputs": [
    {
     "data": {
      "text/plain": [
       "(39774, 3183)"
      ]
     },
     "execution_count": 66,
     "metadata": {},
     "output_type": "execute_result"
    }
   ],
   "source": [
    "x_traincv=cuisine_vector.fit_transform(x_train)\n",
    "x_traincv.shape"
   ]
  },
  {
   "cell_type": "code",
   "execution_count": 67,
   "metadata": {},
   "outputs": [
    {
     "data": {
      "text/plain": [
       "0.7460149846633479"
      ]
     },
     "execution_count": 67,
     "metadata": {},
     "output_type": "execute_result"
    }
   ],
   "source": [
    "from sklearn.naive_bayes import MultinomialNB\n",
    "\n",
    "MNB=MultinomialNB()\n",
    "MNB.fit(x_traincv, y_train)\n",
    "MNB.score(x_traincv, y_train)"
   ]
  }
 ],
 "metadata": {
  "kernelspec": {
   "display_name": "Python 3",
   "language": "python",
   "name": "python3"
  },
  "language_info": {
   "codemirror_mode": {
    "name": "ipython",
    "version": 3
   },
   "file_extension": ".py",
   "mimetype": "text/x-python",
   "name": "python",
   "nbconvert_exporter": "python",
   "pygments_lexer": "ipython3",
   "version": "3.7.4"
  }
 },
 "nbformat": 4,
 "nbformat_minor": 2
}
