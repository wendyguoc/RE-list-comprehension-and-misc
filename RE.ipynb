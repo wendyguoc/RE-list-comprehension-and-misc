{
 "cells": [
  {
   "cell_type": "code",
   "execution_count": 49,
   "metadata": {},
   "outputs": [
    {
     "name": "stdout",
     "output_type": "stream",
     "text": [
      "<re.Match object; span=(203, 214), match='Mr. Schafer'>\n",
      "<re.Match object; span=(215, 223), match='Mr Smith'>\n",
      "<re.Match object; span=(224, 232), match='Ms Davis'>\n",
      "<re.Match object; span=(233, 246), match='Mrs. Robinson'>\n",
      "<re.Match object; span=(247, 252), match='Mr. T'>\n"
     ]
    }
   ],
   "source": [
    "import re\n",
    "\n",
    "text_to_search='''\n",
    "abcdefghijklmnopqrstuvwxyz\n",
    "ABCDEFGHIJKLMNOPQRSTUVWXYZ\n",
    "1234567890\n",
    "\n",
    "Ha HaHa\n",
    "\n",
    "MetaCharacters (Need to be escaped):\n",
    ". ^ $ * + ? {}[] \\ |()\n",
    "\n",
    "coreyms.com\n",
    "\n",
    "321-555-4321\n",
    "123.555.1234\n",
    "800-555-1234\n",
    "900-555-1234\n",
    "\n",
    "Mr. Schafer\n",
    "Mr Smith\n",
    "Ms Davis\n",
    "Mrs. Robinson\n",
    "Mr. T\n",
    "\n",
    "cat\n",
    "mat\n",
    "pat\n",
    "bat\n",
    "'''\n",
    "sentence='Start a sentence and then bring this sentence to an end'\n",
    "\n",
    "pattern=re.compile(r'M(r|s|rs)\\.?\\s[A-Z]\\w*')\n",
    "\n",
    "matches=pattern.finditer(text_to_search)\n",
    "\n",
    "for match in matches:\n",
    "    print(match)"
   ]
  },
  {
   "cell_type": "code",
   "execution_count": 55,
   "metadata": {},
   "outputs": [
    {
     "name": "stdout",
     "output_type": "stream",
     "text": [
      "<re.Match object; span=(0, 5), match='Start'>\n"
     ]
    }
   ],
   "source": [
    "#pattern=re.compile(r'sentence')\n",
    "pattern=re.compile(r'start', re.IGNORECASE)\n",
    "matches=pattern.search(sentence)\n",
    "print(matches)\n",
    "\n",
    "\n"
   ]
  },
  {
   "cell_type": "code",
   "execution_count": 29,
   "metadata": {},
   "outputs": [
    {
     "name": "stdout",
     "output_type": "stream",
     "text": [
      "<re.Match object; span=(1, 24), match='CoreyMSchafer@gmail.com'>\n",
      "<re.Match object; span=(25, 53), match='corey.schafer@university.edu'>\n",
      "<re.Match object; span=(54, 83), match='corey-321-schafer@my-work.net'>\n",
      "<re.Match object; span=(84, 113), match='wendy_guo123@howardcounty.gov'>\n"
     ]
    }
   ],
   "source": [
    "emails='''\n",
    "CoreyMSchafer@gmail.com\n",
    "corey.schafer@university.edu\n",
    "corey-321-schafer@my-work.net\n",
    "wendy_guo123@howardcounty.gov'''\n",
    "\n",
    "pattern=re.compile(r'[a-zA-Z0-9_.+-]+@[a-zA-Z0-9-]+\\.(com|edu|net|gov)')\n",
    "\n",
    "matches=pattern.finditer(emails)\n",
    "\n",
    "for match in matches:\n",
    "    print(match)"
   ]
  },
  {
   "cell_type": "code",
   "execution_count": 40,
   "metadata": {},
   "outputs": [
    {
     "name": "stdout",
     "output_type": "stream",
     "text": [
      "('www.', 'google', '.com')\n",
      "('', 'coreyms', '.com')\n",
      "('', 'youtube', '.com')\n",
      "('www.', 'nasa', '.gov')\n"
     ]
    }
   ],
   "source": [
    "urls='''\n",
    "https://www.google.com\n",
    "http://coreyms.com\n",
    "https://youtube.com\n",
    "https://www.nasa.gov'''\n",
    "\n",
    "pattern=re.compile(r'https?://(www\\.)?(\\w+)(\\.\\w+)')\n",
    "\n",
    "subbed_urls=pattern.sub(r'\\2\\3', urls)\n",
    "\n",
    "#print(subbed_urls)\n",
    "matches=pattern.findall(urls)\n",
    "\n",
    "for match in matches:\n",
    "    print(match)"
   ]
  },
  {
   "cell_type": "code",
   "execution_count": 1,
   "metadata": {},
   "outputs": [
    {
     "ename": "SyntaxError",
     "evalue": "unexpected character after line continuation character (<ipython-input-1-ef4943e1c464>, line 2)",
     "output_type": "error",
     "traceback": [
      "\u001b[1;36m  File \u001b[1;32m\"<ipython-input-1-ef4943e1c464>\"\u001b[1;36m, line \u001b[1;32m2\u001b[0m\n\u001b[1;33m    ingredient=[egg, potato, basil\\xae, curry\\xe8vre, \\u2122]\u001b[0m\n\u001b[1;37m                                                             ^\u001b[0m\n\u001b[1;31mSyntaxError\u001b[0m\u001b[1;31m:\u001b[0m unexpected character after line continuation character\n"
     ]
    }
   ],
   "source": [
    "character_exceptions_to_remove = [\"\\xae\", \"\\xe8vre\", \"\\u2122\"]\n",
    "ingredient=[egg, potato, basil\\xae, curry\\xe8vre, \\u2122]\n",
    " for character_exception in character_exceptions_to_remove:\n",
    "        ingredient = re.sub(character_exception, \"\", ingredient)\n",
    "print(ingredient)"
   ]
  }
 ],
 "metadata": {
  "kernelspec": {
   "display_name": "Python 3",
   "language": "python",
   "name": "python3"
  },
  "language_info": {
   "codemirror_mode": {
    "name": "ipython",
    "version": 3
   },
   "file_extension": ".py",
   "mimetype": "text/x-python",
   "name": "python",
   "nbconvert_exporter": "python",
   "pygments_lexer": "ipython3",
   "version": "3.7.4"
  }
 },
 "nbformat": 4,
 "nbformat_minor": 2
}
